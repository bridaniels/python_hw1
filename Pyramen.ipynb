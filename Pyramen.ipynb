{
 "cells": [
  {
   "cell_type": "markdown",
   "metadata": {},
   "source": [
    "## Import Libraries and Data"
   ]
  },
  {
   "cell_type": "code",
   "execution_count": null,
   "metadata": {},
   "outputs": [],
   "source": [
    "# Import Libraries \n",
    "import csv\n",
    "from pathlib import Path\n",
    "from csv import reader\n",
    "import pandas as pd\n",
    "\n",
    "# Set File Path and List Objects \n",
    "menu_path = Path('Resources/menu_data.csv')\n",
    "sales_path = Path('Resources/sales_data.csv')\n",
    "menu = []\n",
    "sales = []"
   ]
  },
  {
   "cell_type": "markdown",
   "metadata": {},
   "source": [
    "# Read Menu data into Menu List "
   ]
  },
  {
   "cell_type": "code",
   "execution_count": null,
   "metadata": {},
   "outputs": [],
   "source": [
    "# with statemtn to open .csv using file path \n",
    "with open(menu_path) as menu_csv: \n",
    "    reader = csv.reader(menu_csv)\n",
    "    \n",
    "    # use next function to skip the header (first row of .csv)\n",
    "    next(reader)\n",
    "    for menu_row in reader:\n",
    "        menu.append(menu_row)"
   ]
  },
  {
   "cell_type": "markdown",
   "metadata": {},
   "source": [
    "# Read Sales data into Sales List "
   ]
  },
  {
   "cell_type": "code",
   "execution_count": null,
   "metadata": {},
   "outputs": [],
   "source": [
    "with open(sales_path) as sales_file:\n",
    "    reader = csv.reader(sales_file)\n",
    "    \n",
    "    #Use next function to skip header of csv\n",
    "    next(reader)\n",
    "    for row in reader:\n",
    "        sales.append(row)"
   ]
  },
  {
   "cell_type": "code",
   "execution_count": null,
   "metadata": {},
   "outputs": [],
   "source": [
    "# sales_df = pd.read_csv(sales_path)\n",
    "# sales_df.dtypes"
   ]
  },
  {
   "cell_type": "markdown",
   "metadata": {},
   "source": [
    "# Initialize Empty Dictionary and row counter variable "
   ]
  },
  {
   "cell_type": "code",
   "execution_count": null,
   "metadata": {},
   "outputs": [],
   "source": [
    "report = {}\n",
    "row_count = 0 "
   ]
  },
  {
   "cell_type": "markdown",
   "metadata": {},
   "source": [
    "# Loop over ever row in sales list object "
   ]
  },
  {
   "cell_type": "code",
   "execution_count": null,
   "metadata": {
    "scrolled": true
   },
   "outputs": [],
   "source": [
    "for row in sales:\n",
    "    print()\n",
    "    print(row)\n",
    "    \n",
    "    #initialize sales data variables\n",
    "    quantity = int(row[3])\n",
    "    sales_item = row[4]\n",
    "    \n",
    "    if sales_item not in report.keys():\n",
    "        report[sales_item] = {\n",
    "            \"01-count\": 0,\n",
    "            \"02-revenue\": 0,\n",
    "            \"03-cogs\": 0,\n",
    "            \"04-profit\": 0,\n",
    "        }\n",
    "    \n",
    "    # For every row in sales data loop over menu records to determine a match \n",
    "    for record in menu:\n",
    "        \n",
    "        #initialize menu data variables\n",
    "        item = record[0]\n",
    "        price = float(record[3])\n",
    "        cost = float(record[4])\n",
    "        \n",
    "        #calculate profit\n",
    "        profit = price - cost \n",
    "        \n",
    "        # Item value in sales data == to any items on the menu (track metrics for the item)\n",
    "        if sales_item == item:\n",
    "            \n",
    "            # Print out matching menu data\n",
    "            print(f\"Does {sales_item} equal {item}? WE HAVE A MATCH!!!\")\n",
    "            print(f\"   Item: {item}\")\n",
    "            print(f\"   Price: ${price}\")\n",
    "            print(f\"   Cost: ${cost}\")\n",
    "            print(f\"   Profit: ${profit}\")\n",
    "            \n",
    "            # Cumulatively add up the metrics for each item key\n",
    "            report[sales_item][\"01-count\"] += quantity\n",
    "            report[sales_item][\"02-revenue\"] += price * quantity\n",
    "            report[sales_item][\"03-cogs\"] += cost * quantity\n",
    "            report[sales_item][\"04-profit\"] += profit * quantity\n",
    "            \n",
    "        # Else, the sales item does not equal any fo the item in the menu data, therefore no match\n",
    "        else:\n",
    "            print(\"Does\", sales_item, \"equal\", record[0], \"? WA WA, NO MATCH\")\n",
    "            \n",
    "    #Incriment the row counter by 1\n",
    "    row_count += 1\n",
    "\n",
    "print()\n",
    "print(\"Total number of records:\", row_count)\n",
    "print()\n"
   ]
  },
  {
   "cell_type": "code",
   "execution_count": null,
   "metadata": {},
   "outputs": [],
   "source": []
  },
  {
   "cell_type": "code",
   "execution_count": null,
   "metadata": {},
   "outputs": [],
   "source": []
  },
  {
   "cell_type": "code",
   "execution_count": null,
   "metadata": {},
   "outputs": [],
   "source": [
    "with open(\"report.txt\", \"w\") as txt_file:\n",
    "    for key, value in report.items():\n",
    "        \n",
    "        line = f\"{key} {value}\\n\"\n",
    "        txt_file.write(line)"
   ]
  },
  {
   "cell_type": "code",
   "execution_count": null,
   "metadata": {},
   "outputs": [],
   "source": [
    "\n"
   ]
  },
  {
   "cell_type": "code",
   "execution_count": null,
   "metadata": {},
   "outputs": [],
   "source": []
  },
  {
   "cell_type": "code",
   "execution_count": null,
   "metadata": {},
   "outputs": [],
   "source": []
  },
  {
   "cell_type": "code",
   "execution_count": null,
   "metadata": {},
   "outputs": [],
   "source": []
  }
 ],
 "metadata": {
  "kernelspec": {
   "display_name": "Python 3",
   "language": "python",
   "name": "python3"
  },
  "language_info": {
   "codemirror_mode": {
    "name": "ipython",
    "version": 3
   },
   "file_extension": ".py",
   "mimetype": "text/x-python",
   "name": "python",
   "nbconvert_exporter": "python",
   "pygments_lexer": "ipython3",
   "version": "3.7.6"
  }
 },
 "nbformat": 4,
 "nbformat_minor": 4
}
