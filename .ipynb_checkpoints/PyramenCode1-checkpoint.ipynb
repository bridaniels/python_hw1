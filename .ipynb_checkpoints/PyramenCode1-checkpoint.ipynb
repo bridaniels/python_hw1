{
 "cells": [
  {
   "cell_type": "code",
   "execution_count": 9,
   "metadata": {},
   "outputs": [],
   "source": [
    "# Import Libraries \n",
    "import csv\n",
    "from pathlib import Path\n",
    "from csv import reader\n",
    "\n",
    "# Set File Path and List Objects \n",
    "menu_path = Path('menu_data.csv')\n",
    "sales_path = Path('sales_data.csv')\n",
    "menu = []\n",
    "sales = []\n",
    "line_num = 0"
   ]
  },
  {
   "cell_type": "markdown",
   "metadata": {},
   "source": [
    "# Read Menu data into Menu List "
   ]
  },
  {
   "cell_type": "code",
   "execution_count": 10,
   "metadata": {},
   "outputs": [
    {
     "ename": "FileNotFoundError",
     "evalue": "[Errno 2] No such file or directory: 'menu_data.csv'",
     "output_type": "error",
     "traceback": [
      "\u001b[0;31m---------------------------------------------------------------------------\u001b[0m",
      "\u001b[0;31mFileNotFoundError\u001b[0m                         Traceback (most recent call last)",
      "\u001b[0;32m<ipython-input-10-568e6001efbf>\u001b[0m in \u001b[0;36m<module>\u001b[0;34m\u001b[0m\n\u001b[1;32m      1\u001b[0m \u001b[0;31m# with statemtn to open .csv using file path\u001b[0m\u001b[0;34m\u001b[0m\u001b[0;34m\u001b[0m\u001b[0;34m\u001b[0m\u001b[0m\n\u001b[0;32m----> 2\u001b[0;31m \u001b[0;32mwith\u001b[0m \u001b[0mopen\u001b[0m\u001b[0;34m(\u001b[0m\u001b[0mmenu_path\u001b[0m\u001b[0;34m,\u001b[0m \u001b[0;34m'r'\u001b[0m\u001b[0;34m)\u001b[0m \u001b[0;32mas\u001b[0m \u001b[0mmenu_csv\u001b[0m\u001b[0;34m:\u001b[0m\u001b[0;34m\u001b[0m\u001b[0;34m\u001b[0m\u001b[0m\n\u001b[0m\u001b[1;32m      3\u001b[0m     \u001b[0mprint\u001b[0m\u001b[0;34m(\u001b[0m\u001b[0mtype\u001b[0m\u001b[0;34m(\u001b[0m\u001b[0mmenu_csv\u001b[0m\u001b[0;34m)\u001b[0m\u001b[0;34m)\u001b[0m\u001b[0;34m\u001b[0m\u001b[0;34m\u001b[0m\u001b[0m\n\u001b[1;32m      4\u001b[0m \u001b[0;34m\u001b[0m\u001b[0m\n\u001b[1;32m      5\u001b[0m \u001b[0;34m\u001b[0m\u001b[0m\n",
      "\u001b[0;31mFileNotFoundError\u001b[0m: [Errno 2] No such file or directory: 'menu_data.csv'"
     ]
    }
   ],
   "source": [
    "# with statemtn to open .csv using file path \n",
    "with open(menu_path, 'r') as menu_csv: \n",
    "    print(type(menu_csv))\n",
    "    \n",
    "    \n",
    "    # use next function to skip the header (first row of .csv)\n",
    "    menu_header = next(menu_csv)\n",
    "    line_num += 1\n",
    "    print(f\"{menu_header}\")\n",
    "    \n",
    "    # Use reader to read contents\n",
    "    # turn reader into list\n",
    "    # print contents of file\n",
    "    menu_reader = reader(menu_csv)\n",
    "    menu = list(menu_reader)\n",
    "    \n"
   ]
  },
  {
   "cell_type": "markdown",
   "metadata": {},
   "source": [
    "# Read Sales data into Sales List "
   ]
  },
  {
   "cell_type": "code",
   "execution_count": 3,
   "metadata": {},
   "outputs": [
    {
     "name": "stdout",
     "output_type": "stream",
     "text": [
      "<class '_io.TextIOWrapper'>\n",
      "Line_Item_ID,Date,Credit_Card_Number,Quantity,Menu_Item\n",
      "\n"
     ]
    }
   ],
   "source": [
    "with open(sales_path, 'r') as sales_csv:\n",
    "    print(type(sales_csv))\n",
    "    \n",
    "    # Use next function to skip the header (first row of .csv)\n",
    "    sales_header = next(sales_csv)\n",
    "    line_num += 1\n",
    "    print(f'{sales_header}')\n",
    "    \n",
    "    # Use reader to read contents \n",
    "    # turn reader into list\n",
    "    # print contents of list\n",
    "    sales_reader = reader(sales_csv)\n",
    "    sales = list(sales_reader)\n",
    "    \n",
    "    # print(sales_list)\n",
    "    "
   ]
  },
  {
   "cell_type": "markdown",
   "metadata": {},
   "source": [
    "# Initialize Empty Dictionary and row counter variable "
   ]
  },
  {
   "cell_type": "code",
   "execution_count": 4,
   "metadata": {},
   "outputs": [],
   "source": [
    "report = {}\n",
    "row_count = 0 "
   ]
  },
  {
   "cell_type": "markdown",
   "metadata": {},
   "source": [
    "# Loop over ever row in sales list object "
   ]
  },
  {
   "cell_type": "code",
   "execution_count": 5,
   "metadata": {},
   "outputs": [],
   "source": [
    "for row in sales:\n",
    "    Line_Item_Id = int(row[0])\n",
    "    Date = (row[1])\n",
    "    Credit_Card_Number = int(row[2])\n",
    "    Quantity = int(row[3]) \n",
    "    Menu_Item = (row[4])\n",
    "    # If the item value not in the report, add it as a new entry with initialized metrics\n",
    "    # Naming convention allows the keys to be ordered in logical fashion, count, revenue, cost, profit\n",
    "    for rows in menu:\n",
    "        Item = (rows[0])\n",
    "        Category = (rows[1])\n",
    "        Description = (rows[2])\n",
    "        Price = float(rows[3])\n",
    "        Cost = float(rows[4])\n",
    "        if Item == Menu_Item:\n",
    "            Profit = Price-Cost\n",
    "            # print(Item, Profit)\n",
    "\n"
   ]
  },
  {
   "cell_type": "code",
   "execution_count": null,
   "metadata": {},
   "outputs": [],
   "source": []
  },
  {
   "cell_type": "code",
   "execution_count": null,
   "metadata": {},
   "outputs": [],
   "source": []
  }
 ],
 "metadata": {
  "kernelspec": {
   "display_name": "Python 3",
   "language": "python",
   "name": "python3"
  },
  "language_info": {
   "codemirror_mode": {
    "name": "ipython",
    "version": 3
   },
   "file_extension": ".py",
   "mimetype": "text/x-python",
   "name": "python",
   "nbconvert_exporter": "python",
   "pygments_lexer": "ipython3",
   "version": "3.7.6"
  }
 },
 "nbformat": 4,
 "nbformat_minor": 4
}
